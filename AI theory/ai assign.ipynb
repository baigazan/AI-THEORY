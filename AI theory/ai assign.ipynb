{
 "cells": [
  {
   "cell_type": "markdown",
   "id": "d23113be",
   "metadata": {},
   "source": [
    "## __IMPORT LIBARARIES__"
   ]
  },
  {
   "cell_type": "code",
   "execution_count": 1,
   "id": "a0beea7c",
   "metadata": {},
   "outputs": [],
   "source": [
    "import pandas as pd\n",
    "from sklearn.model_selection import train_test_split\n",
    "from sklearn.svm import SVR\n",
    "import pickle"
   ]
  },
  {
   "cell_type": "markdown",
   "id": "4bbe412a",
   "metadata": {},
   "source": [
    "## __DATA LOADING & UNDERSTANDING__"
   ]
  },
  {
   "cell_type": "code",
   "execution_count": 2,
   "id": "812bc3bb",
   "metadata": {},
   "outputs": [],
   "source": [
    "class DataLoader:\n",
    "    def __init__(self, filepath):\n",
    "        self.df = pd.read_csv(filepath)\n",
    "        print(\"Data Loaded.\\n\")\n",
    "        \n",
    "    def get_data(self):\n",
    "        return self.df\n",
    "    \n",
    "    def display_head(self,n=5):\n",
    "        return self.df.head(n)\n",
    "    \n",
    "    def display_tail(self,n=5):\n",
    "        return self.df.tail(n)\n",
    "    \n",
    "    def description(self):\n",
    "        return self.df.describe()\n",
    "    \n",
    "    def display_info(self):\n",
    "        self.df.info()\n",
    "    "
   ]
  },
  {
   "cell_type": "markdown",
   "id": "12e46d90",
   "metadata": {},
   "source": [
    "## __DATA PREPROCESSING__"
   ]
  },
  {
   "cell_type": "code",
   "execution_count": 3,
   "id": "9e2f2619",
   "metadata": {},
   "outputs": [],
   "source": [
    "class DataPreprocessor:\n",
    "\n",
    "    def __init__(self, dF):\n",
    "        self.df = dF\n",
    "\n",
    "    def check_missing_values(self):\n",
    "        return self.df.isnull().sum()\n",
    "    \n",
    "    def fill_missing(self):\n",
    "        self.df.fillna(self.df.mean(numeric_only=True), inplace=True)\n",
    "        \n",
    "    def encode_categorical(self):\n",
    "    \n",
    "        object_cols = self.df.select_dtypes(include='object').columns\n",
    "        if len(object_cols):\n",
    "            self.df = pd.get_dummies(self.df, columns=object_cols, drop_first=True)\n",
    "            print(\"Categorical columns encoded.\\n\")\n",
    "        return self.df"
   ]
  },
  {
   "cell_type": "markdown",
   "id": "82d749ef",
   "metadata": {},
   "source": [
    "## __DATA SPLITING__"
   ]
  },
  {
   "cell_type": "code",
   "execution_count": 4,
   "id": "be99754f",
   "metadata": {},
   "outputs": [],
   "source": [
    "class DataSplitter:\n",
    "    def __init__(self, df):\n",
    "        self.df = df\n",
    "\n",
    "    def split(self, target_col,test_size=0.2, random_state=42):\n",
    "        X = self.df.drop(target_col, axis=1)\n",
    "        y = self.df[target_col]\n",
    "        return train_test_split(X, y, test_size=test_size, random_state=random_state)"
   ]
  },
  {
   "cell_type": "markdown",
   "id": "3841a611",
   "metadata": {},
   "source": [
    "## __MODEL TRAIN (SVM)__"
   ]
  },
  {
   "cell_type": "code",
   "execution_count": 5,
   "id": "09420c3b",
   "metadata": {},
   "outputs": [],
   "source": [
    "class SalaryModel:\n",
    "    \n",
    "    def __init__(self):\n",
    "        self.model = SVR(kernel='linear')\n",
    "\n",
    "    def train(self, X_train, y_train):\n",
    "        self.model.fit(X_train, y_train)\n",
    "        return self.model\n"
   ]
  },
  {
   "cell_type": "markdown",
   "id": "62a302fa",
   "metadata": {},
   "source": [
    "## __EVALUATE MODEL__"
   ]
  },
  {
   "cell_type": "code",
   "execution_count": 6,
   "id": "8ed063bf",
   "metadata": {},
   "outputs": [],
   "source": [
    "class ModelEvaluator:\n",
    "\n",
    "    def evaluate(self, model, X_test, y_test):\n",
    "        y_pred = model.predict(X_test)\n",
    "        "
   ]
  },
  {
   "cell_type": "markdown",
   "id": "679d2762",
   "metadata": {},
   "source": [
    "## __MODEL SAVE AS PICKLE__"
   ]
  },
  {
   "cell_type": "code",
   "execution_count": 7,
   "id": "5a8b5edf",
   "metadata": {},
   "outputs": [],
   "source": [
    "class ModelSaver:\n",
    "    \n",
    "    def __init__(self, model, filename='salary_model.pkl'):\n",
    "        self.model = model\n",
    "        self.filename = filename\n",
    "\n",
    "    def save(self):\n",
    "        with open(self.filename, 'wb') as f:\n",
    "            pickle.dump(self.model, f)\n",
    "        print(f\"Model saved as {self.filename}\")\n"
   ]
  },
  {
   "cell_type": "markdown",
   "id": "c87b8d83",
   "metadata": {},
   "source": [
    "## __OBJECTS OF ALL CLASSES__"
   ]
  },
  {
   "cell_type": "code",
   "execution_count": 8,
   "id": "d867f796",
   "metadata": {},
   "outputs": [
    {
     "name": "stdout",
     "output_type": "stream",
     "text": [
      "Data Loaded.\n",
      "\n",
      "data head\n",
      "   ID  Experience_Years  Age  Gender  Salary\n",
      "0   1                 5   28  Female  250000\n",
      "1   2                 1   21    Male   50000\n",
      "2   3                 3   23  Female  170000\n",
      "3   4                 2   22    Male   25000\n",
      "4   5                 1   17    Male   10000\n",
      "data tail\n",
      "    ID  Experience_Years  Age  Gender   Salary\n",
      "30  31                10   34    Male    80000\n",
      "31  32                15   54    Male   900000\n",
      "32  33                20   55  Female  1540000\n",
      "33  34                19   53  Female  9300000\n",
      "34  35                16   49    Male  7600000\n",
      "data description\n",
      "              ID  Experience_Years        Age        Salary\n",
      "count  35.000000          35.00000  35.000000  3.500000e+01\n",
      "mean   18.000000           9.20000  35.485714  2.059147e+06\n",
      "std    10.246951           7.55295  14.643552  3.170124e+06\n",
      "min     1.000000           1.00000  17.000000  3.000000e+03\n",
      "25%     9.500000           2.50000  22.500000  2.250000e+04\n",
      "50%    18.000000           6.00000  29.000000  2.500000e+05\n",
      "75%    26.500000          15.00000  53.500000  3.270000e+06\n",
      "max    35.000000          27.00000  62.000000  1.000000e+07\n",
      "data information\n",
      "<bound method DataLoader.display_info of <__main__.DataLoader object at 0x000002472E036E70>>\n",
      "Categorical columns encoded.\n",
      "\n",
      "Model saved as salary_model.pkl\n"
     ]
    }
   ],
   "source": [
    "# 1. Load\n",
    "data = DataLoader(\"Employee_Salary_Dataset.csv\")\n",
    "df = data.get_data()\n",
    "print(\"data head\")\n",
    "print(data.display_head())\n",
    "print(\"data tail\")\n",
    "print(data.display_tail())\n",
    "print(\"data description\")\n",
    "print(data.description())\n",
    "print(\"data information\")\n",
    "print(data.display_info)\n",
    "\n",
    "\n",
    "# 2. Preprocess\n",
    "prep = DataPreprocessor(df)\n",
    "prep.fill_missing()\n",
    "df_clean = prep.encode_categorical()\n",
    "\n",
    "# 4. Split\n",
    "splitter = DataSplitter(df_clean)\n",
    "X_train, X_test, y_train, y_test = splitter.split(\"Salary\")\n",
    "\n",
    "# 5. Train\n",
    "model_obj = SalaryModel()\n",
    "model = model_obj.train(X_train, y_train)\n",
    "\n",
    "# 6. Evaluate\n",
    "evaluator = ModelEvaluator()\n",
    "evaluator.evaluate(model, X_test, y_test)\n",
    "\n",
    "# 7. Save\n",
    "saver = ModelSaver(model)\n",
    "saver.save()\n"
   ]
  }
 ],
 "metadata": {
  "kernelspec": {
   "display_name": "base",
   "language": "python",
   "name": "python3"
  },
  "language_info": {
   "codemirror_mode": {
    "name": "ipython",
    "version": 3
   },
   "file_extension": ".py",
   "mimetype": "text/x-python",
   "name": "python",
   "nbconvert_exporter": "python",
   "pygments_lexer": "ipython3",
   "version": "3.12.4"
  }
 },
 "nbformat": 4,
 "nbformat_minor": 5
}
